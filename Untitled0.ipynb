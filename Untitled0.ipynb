{
  "nbformat": 4,
  "nbformat_minor": 0,
  "metadata": {
    "colab": {
      "name": "Untitled0.ipynb",
      "provenance": [],
      "collapsed_sections": [],
      "authorship_tag": "ABX9TyMG+fFYeVxSbKhVrGrM8jof",
      "include_colab_link": true
    },
    "kernelspec": {
      "name": "python3",
      "display_name": "Python 3"
    }
  },
  "cells": [
    {
      "cell_type": "markdown",
      "metadata": {
        "id": "view-in-github",
        "colab_type": "text"
      },
      "source": [
        "<a href=\"https://colab.research.google.com/github/abhilash-git/AmdocsScripts/blob/master/Untitled0.ipynb\" target=\"_parent\"><img src=\"https://colab.research.google.com/assets/colab-badge.svg\" alt=\"Open In Colab\"/></a>"
      ]
    },
    {
      "cell_type": "code",
      "metadata": {
        "id": "0KuOviMnXPFN"
      },
      "source": [
        "from datetime import datetime,date,timedelta\n",
        "import calendar\n",
        "def getMonthwithIndex(index=0,date_in=datetime.now(),backward=False):\n",
        "    days_in_month=0\n",
        "    date_in = date_in.replace(day=1)\n",
        "    for i in range(index):\n",
        "      days_in_month = calendar.monthrange(date_in.year, date_in.month)[1]\n",
        "      if backward:\n",
        "        date_in=date_in - timedelta(days=days_in_month)\n",
        "      else:\n",
        "        date_in = date_in + timedelta(days=days_in_month)\n",
        "    return date_in\n",
        "    "
      ],
      "execution_count": 1,
      "outputs": []
    },
    {
      "cell_type": "code",
      "metadata": {
        "id": "xD6dXMgrB1iW",
        "colab": {
          "base_uri": "https://localhost:8080/"
        },
        "outputId": "ce3fafaf-4af4-42d6-e32a-73ae450f958e"
      },
      "source": [
        "!pip install numpy-financial\n",
        "import numpy_financial as npf\n",
        "import pandas as pd\n",
        "import matplotlib.pyplot as plt\n",
        "pd.options.display.float_format = '{:.5f}'.format\n",
        "pd.set_option('display.float_format', lambda x: '%.5f' % x)\n",
        "\n",
        "class Loan:\n",
        "  def __init__(self, principle_amount, interest_in_year, period_in_years,starting_date=datetime.now()):\n",
        "    self.starting_date = starting_date\n",
        "    self.principle_amount = principle_amount\n",
        "    self.interest_in_year = interest_in_year\n",
        "    self.period_in_years = period_in_years\n",
        "    self.column_names = [\"MONTH\", \"STARTING_AMOUNT\", \"EMI_AMOUNT\", \"INTEREST_PAID\", \"PRINCIPLE_PAID\", \"LEFTOVER_PRINCIPLE\"]\n",
        "    self.df = pd.DataFrame(columns = self.column_names)\n",
        "    self.orginal_df = pd.DataFrame(columns = self.column_names)\n",
        "    self.emi_amount = npf.pmt((interest_in_year/100)/12, period_in_years*12, -principle_amount,0)\n",
        "    self.Principle_paid=0\n",
        "    self.Interest_paid=0\n",
        "    self.advancePayments=[]\n",
        "\n",
        "  def getPrincipleAmount(self):\n",
        "      return self.principle_amount\n",
        "\n",
        "  def setPrincipleAmount(self,amt):\n",
        "    self.principle_amount = amt;\n",
        "\n",
        "  def getDataFrame(self):\n",
        "    return self.df\n",
        "\n",
        "  def populateDateFrame(self):\n",
        "    \n",
        "    period_in_months = int(round(self.period_in_years*12))\n",
        "    print(\"called {}\".format(period_in_months))\n",
        "    for i in range(0,period_in_months):\n",
        "      temp_list_one_row=[]\n",
        "      # print(i)\n",
        "      if self.getPrincipleAmount() < 1:\n",
        "        print(\"Break\")\n",
        "        break;\n",
        "      temp_list_one_row.append(getMonthwithIndex(i+1,self.starting_date).date())\n",
        "      temp_list_one_row.append(self.getPrincipleAmount())\n",
        "      self.Interest_paid=(self.getPrincipleAmount()*(self.interest_in_year/100)/12)\n",
        "      if self.getPrincipleAmount() < self.emi_amount:\n",
        "        self.emi_amount=self.getPrincipleAmount() + self.Interest_paid\n",
        "      temp_list_one_row.append(self.emi_amount)\n",
        "      temp_list_one_row.append(self.Interest_paid)\n",
        "      self.Principle_paid = self.emi_amount - self.Interest_paid\n",
        "      temp_list_one_row.append(self.Principle_paid)\n",
        "      temp_list_one_row.append(self.getPrincipleAmount() - self.Principle_paid)\n",
        "      self.setPrincipleAmount(self.getPrincipleAmount() - self.Principle_paid)\n",
        "\n",
        "      # print(temp_list_one_row)\n",
        "      self.df = self.df.append(pd.Series(temp_list_one_row, index=self.column_names), ignore_index=True)\n",
        "\n",
        "    if self.orginal_df.empty:\n",
        "      self.orginal_df = self.df.copy(deep=True)\n",
        "\n",
        "\n",
        "\n",
        "  def adjustWithAdvancePayment(self, payment_date, paid_amount):\n",
        "    temp_list1=[]\n",
        "    self.period_in_years = round((self.df[self.df.MONTH > payment_date.date()].shape[0] -1 )/12, 5)\n",
        "    print(\"Printing year {}\".format(self.period_in_years))\n",
        "    self.setPrincipleAmount(self.df[self.df.MONTH==payment_date.date()].LEFTOVER_PRINCIPLE.item())\n",
        "    self.df.drop(self.df[self.df.MONTH> payment_date.date()].index, inplace=True)\n",
        "    self.starting_date=getMonthwithIndex(1, payment_date)\n",
        "    temp_list1.append(self.starting_date.date())\n",
        "    temp_list1.append(self.getPrincipleAmount())\n",
        "    temp_list1.append(self.emi_amount)\n",
        "    self.Interest_paid=(self.getPrincipleAmount()*(self.interest_in_year/100)/12)\n",
        "    temp_list1.append(self.Interest_paid)\n",
        "    advance_paid = paid_amount - self.Interest_paid;\n",
        "    self.advancePayments.append(advance_paid);\n",
        "    print(\"Printing advance_paid {}\".format(advance_paid))\n",
        "    self.Principle_paid = (self.emi_amount - self.Interest_paid) + advance_paid;\n",
        "    temp_list1.append(self.Principle_paid)\n",
        "    temp_list1.append(self.getPrincipleAmount() - self.Principle_paid)\n",
        "    self.setPrincipleAmount(self.getPrincipleAmount() - self.Principle_paid)\n",
        "    # print(temp_list1)\n",
        "    self.df = self.df.append(pd.Series(temp_list1, index=self.column_names), ignore_index=True)\n",
        "    self.populateDateFrame()\n",
        "\n",
        "\n",
        "  def getTrend(self,deviation=False):\n",
        "    if not self.df.empty and not self.orginal_df.empty and deviation:\n",
        "      deviation=True;\n",
        "    fig, axes = plt.subplots(nrows=1, ncols=2, figsize=(15, 5))\n",
        "    axes[0].plot(self.df.MONTH,self.df.STARTING_AMOUNT,color=\"blue\")\n",
        "    axes[1].plot(self.df.MONTH,self.df.PRINCIPLE_PAID,color=\"red\")\n",
        "    if deviation:\n",
        "      axes[0].plot(self.orginal_df.MONTH,self.orginal_df.STARTING_AMOUNT,color=\"green\")\n",
        "      axes[1].plot(self.orginal_df.MONTH,self.orginal_df.PRINCIPLE_PAID,color=\"green\")\n",
        "\n",
        "    fig.tight_layout()\n",
        "\n",
        "    plt.show()\n",
        "    if deviation:\n",
        "      print(\"You would have paid {} and with advance payment you paid {} \".format(self.orginal_df.EMI_AMOUNT.sum() , self.df.EMI_AMOUNT.sum()))\n",
        "      print(\"Your saving is {} out of which advance principle paid is {}\".format(self.orginal_df.EMI_AMOUNT.sum() - self.df.EMI_AMOUNT.sum(), \n",
        "                                                                       sum(self.advancePayments)))\n",
        "      print(\"You saved {} in interest\".format(self.orginal_df.EMI_AMOUNT.sum() - self.df.EMI_AMOUNT.sum() - sum(self.advancePayments)))\n",
        "\n"
      ],
      "execution_count": 2,
      "outputs": [
        {
          "output_type": "stream",
          "text": [
            "Requirement already satisfied: numpy-financial in /usr/local/lib/python3.6/dist-packages (1.0.0)\n",
            "Requirement already satisfied: numpy>=1.15 in /usr/local/lib/python3.6/dist-packages (from numpy-financial) (1.18.5)\n"
          ],
          "name": "stdout"
        }
      ]
    },
    {
      "cell_type": "code",
      "metadata": {
        "id": "WUEeszrkuC3j",
        "colab": {
          "base_uri": "https://localhost:8080/"
        },
        "outputId": "3f8a4ee4-296e-4460-d189-792916db298a"
      },
      "source": [
        "print(\"provide the date of Disbursement\")\n",
        "# year = int(input('Enter a year :'))\n",
        "year=2020\n",
        "# month = int(input('Enter a month :'))\n",
        "month=5\n",
        "# day = int(input('Enter a day :'))\n",
        "day=5\n",
        "date1 = datetime(year, month, day, 00, 00, 00, 00)\n",
        "# print(date1)"
      ],
      "execution_count": 3,
      "outputs": [
        {
          "output_type": "stream",
          "text": [
            "provide the date of Disbursement\n"
          ],
          "name": "stdout"
        }
      ]
    },
    {
      "cell_type": "code",
      "metadata": {
        "id": "Xt1zm-GjuzO-",
        "colab": {
          "base_uri": "https://localhost:8080/"
        },
        "outputId": "41918cf0-cfeb-4c9c-b84c-b08d778aaa4f"
      },
      "source": [
        "print(\"Provide details of Loan\")\n",
        "# amount = int(input('Enter principle amount :'))\n",
        "amount=10000000\n",
        "# rate = float(input('Enter the rate of interest accepted :'))\n",
        "rate=12\n",
        "# duration = int(input('Enter the duration in years :'))\n",
        "duration=30"
      ],
      "execution_count": 4,
      "outputs": [
        {
          "output_type": "stream",
          "text": [
            "Provide details of Loan\n"
          ],
          "name": "stdout"
        }
      ]
    },
    {
      "cell_type": "code",
      "metadata": {
        "id": "qMBaQxpKCIfM"
      },
      "source": [
        "\n",
        "obj1=Loan(amount,rate,duration,date1)\n"
      ],
      "execution_count": 5,
      "outputs": []
    },
    {
      "cell_type": "code",
      "metadata": {
        "id": "0GBmQ6pSCbhA",
        "colab": {
          "base_uri": "https://localhost:8080/"
        },
        "outputId": "9f52fc19-573a-4849-97bf-fd6dbb431eb9"
      },
      "source": [
        "obj1.populateDateFrame()"
      ],
      "execution_count": 6,
      "outputs": [
        {
          "output_type": "stream",
          "text": [
            "called 360\n"
          ],
          "name": "stdout"
        }
      ]
    },
    {
      "cell_type": "code",
      "metadata": {
        "colab": {
          "base_uri": "https://localhost:8080/",
          "height": 415
        },
        "id": "F36_zFHJ0syE",
        "outputId": "f962d7ec-b934-42d5-9c97-1f0c6007c35d"
      },
      "source": [
        "obj1.getDataFrame()"
      ],
      "execution_count": 7,
      "outputs": [
        {
          "output_type": "execute_result",
          "data": {
            "text/html": [
              "<div>\n",
              "<style scoped>\n",
              "    .dataframe tbody tr th:only-of-type {\n",
              "        vertical-align: middle;\n",
              "    }\n",
              "\n",
              "    .dataframe tbody tr th {\n",
              "        vertical-align: top;\n",
              "    }\n",
              "\n",
              "    .dataframe thead th {\n",
              "        text-align: right;\n",
              "    }\n",
              "</style>\n",
              "<table border=\"1\" class=\"dataframe\">\n",
              "  <thead>\n",
              "    <tr style=\"text-align: right;\">\n",
              "      <th></th>\n",
              "      <th>MONTH</th>\n",
              "      <th>STARTING_AMOUNT</th>\n",
              "      <th>EMI_AMOUNT</th>\n",
              "      <th>INTEREST_PAID</th>\n",
              "      <th>PRINCIPLE_PAID</th>\n",
              "      <th>LEFTOVER_PRINCIPLE</th>\n",
              "    </tr>\n",
              "  </thead>\n",
              "  <tbody>\n",
              "    <tr>\n",
              "      <th>0</th>\n",
              "      <td>2020-06-01</td>\n",
              "      <td>10000000</td>\n",
              "      <td>102861.25969</td>\n",
              "      <td>100000.00000</td>\n",
              "      <td>2861.25969</td>\n",
              "      <td>9997138.74031</td>\n",
              "    </tr>\n",
              "    <tr>\n",
              "      <th>1</th>\n",
              "      <td>2020-07-01</td>\n",
              "      <td>9997138.74031</td>\n",
              "      <td>102861.25969</td>\n",
              "      <td>99971.38740</td>\n",
              "      <td>2889.87229</td>\n",
              "      <td>9994248.86802</td>\n",
              "    </tr>\n",
              "    <tr>\n",
              "      <th>2</th>\n",
              "      <td>2020-08-01</td>\n",
              "      <td>9994248.86802</td>\n",
              "      <td>102861.25969</td>\n",
              "      <td>99942.48868</td>\n",
              "      <td>2918.77101</td>\n",
              "      <td>9991330.09701</td>\n",
              "    </tr>\n",
              "    <tr>\n",
              "      <th>3</th>\n",
              "      <td>2020-09-01</td>\n",
              "      <td>9991330.09701</td>\n",
              "      <td>102861.25969</td>\n",
              "      <td>99913.30097</td>\n",
              "      <td>2947.95872</td>\n",
              "      <td>9988382.13828</td>\n",
              "    </tr>\n",
              "    <tr>\n",
              "      <th>4</th>\n",
              "      <td>2020-10-01</td>\n",
              "      <td>9988382.13828</td>\n",
              "      <td>102861.25969</td>\n",
              "      <td>99883.82138</td>\n",
              "      <td>2977.43831</td>\n",
              "      <td>9985404.69997</td>\n",
              "    </tr>\n",
              "    <tr>\n",
              "      <th>...</th>\n",
              "      <td>...</td>\n",
              "      <td>...</td>\n",
              "      <td>...</td>\n",
              "      <td>...</td>\n",
              "      <td>...</td>\n",
              "      <td>...</td>\n",
              "    </tr>\n",
              "    <tr>\n",
              "      <th>355</th>\n",
              "      <td>2050-01-01</td>\n",
              "      <td>499230.05111</td>\n",
              "      <td>102861.25969</td>\n",
              "      <td>4992.30051</td>\n",
              "      <td>97868.95918</td>\n",
              "      <td>401361.09193</td>\n",
              "    </tr>\n",
              "    <tr>\n",
              "      <th>356</th>\n",
              "      <td>2050-02-01</td>\n",
              "      <td>401361.09193</td>\n",
              "      <td>102861.25969</td>\n",
              "      <td>4013.61092</td>\n",
              "      <td>98847.64877</td>\n",
              "      <td>302513.44315</td>\n",
              "    </tr>\n",
              "    <tr>\n",
              "      <th>357</th>\n",
              "      <td>2050-03-01</td>\n",
              "      <td>302513.44315</td>\n",
              "      <td>102861.25969</td>\n",
              "      <td>3025.13443</td>\n",
              "      <td>99836.12526</td>\n",
              "      <td>202677.31789</td>\n",
              "    </tr>\n",
              "    <tr>\n",
              "      <th>358</th>\n",
              "      <td>2050-04-01</td>\n",
              "      <td>202677.31789</td>\n",
              "      <td>102861.25969</td>\n",
              "      <td>2026.77318</td>\n",
              "      <td>100834.48651</td>\n",
              "      <td>101842.83138</td>\n",
              "    </tr>\n",
              "    <tr>\n",
              "      <th>359</th>\n",
              "      <td>2050-05-01</td>\n",
              "      <td>101842.83138</td>\n",
              "      <td>102861.25969</td>\n",
              "      <td>1018.42831</td>\n",
              "      <td>101842.83138</td>\n",
              "      <td>0.00000</td>\n",
              "    </tr>\n",
              "  </tbody>\n",
              "</table>\n",
              "<p>360 rows × 6 columns</p>\n",
              "</div>"
            ],
            "text/plain": [
              "          MONTH STARTING_AMOUNT  ...  PRINCIPLE_PAID  LEFTOVER_PRINCIPLE\n",
              "0    2020-06-01        10000000  ...      2861.25969       9997138.74031\n",
              "1    2020-07-01   9997138.74031  ...      2889.87229       9994248.86802\n",
              "2    2020-08-01   9994248.86802  ...      2918.77101       9991330.09701\n",
              "3    2020-09-01   9991330.09701  ...      2947.95872       9988382.13828\n",
              "4    2020-10-01   9988382.13828  ...      2977.43831       9985404.69997\n",
              "..          ...             ...  ...             ...                 ...\n",
              "355  2050-01-01    499230.05111  ...     97868.95918        401361.09193\n",
              "356  2050-02-01    401361.09193  ...     98847.64877        302513.44315\n",
              "357  2050-03-01    302513.44315  ...     99836.12526        202677.31789\n",
              "358  2050-04-01    202677.31789  ...    100834.48651        101842.83138\n",
              "359  2050-05-01    101842.83138  ...    101842.83138             0.00000\n",
              "\n",
              "[360 rows x 6 columns]"
            ]
          },
          "metadata": {
            "tags": []
          },
          "execution_count": 7
        }
      ]
    },
    {
      "cell_type": "code",
      "metadata": {
        "colab": {
          "base_uri": "https://localhost:8080/"
        },
        "id": "SfNQrUGxCm5Z",
        "outputId": "eeb6ae95-6f83-482f-a6ff-4d198e51eb7e"
      },
      "source": [
        "obj1.adjustWithAdvancePayment(payment_date=datetime(2049, 1, 1, 00, 00, 00, 00),paid_amount=400000)"
      ],
      "execution_count": 8,
      "outputs": [
        {
          "output_type": "stream",
          "text": [
            "Printing year 1.25\n",
            "Printing advance_paid 384861.009630582\n",
            "called 15\n",
            "Break\n"
          ],
          "name": "stdout"
        }
      ]
    },
    {
      "cell_type": "code",
      "metadata": {
        "colab": {
          "base_uri": "https://localhost:8080/"
        },
        "id": "dyonOTVhuPdQ",
        "outputId": "842c5aa1-0233-4eaf-d849-31971f5b619b"
      },
      "source": [
        "obj1.adjustWithAdvancePayment(payment_date=datetime(2049, 4, 1, 00, 00, 00, 00),paid_amount=400000)"
      ],
      "execution_count": 9,
      "outputs": [
        {
          "output_type": "stream",
          "text": [
            "Printing year 0.66667\n",
            "Printing advance_paid 391445.0492725841\n",
            "called 8\n",
            "Break\n"
          ],
          "name": "stdout"
        }
      ]
    },
    {
      "cell_type": "code",
      "metadata": {
        "colab": {
          "base_uri": "https://localhost:8080/",
          "height": 386
        },
        "id": "yNGOMN0kWQG7",
        "outputId": "eda5dbf7-d060-4cd8-80e5-253e3c8fdeab"
      },
      "source": [
        "# a.getDataFrame()[a.getDataFrame()[MONTH==datetime(2049, 1, 1, 00, 00, 00, 00).date()]]\n",
        "obj1.getDataFrame()[obj1.getDataFrame().MONTH> datetime(2048, 12, 1, 00, 00, 00, 00).date()]"
      ],
      "execution_count": 10,
      "outputs": [
        {
          "output_type": "execute_result",
          "data": {
            "text/html": [
              "<div>\n",
              "<style scoped>\n",
              "    .dataframe tbody tr th:only-of-type {\n",
              "        vertical-align: middle;\n",
              "    }\n",
              "\n",
              "    .dataframe tbody tr th {\n",
              "        vertical-align: top;\n",
              "    }\n",
              "\n",
              "    .dataframe thead th {\n",
              "        text-align: right;\n",
              "    }\n",
              "</style>\n",
              "<table border=\"1\" class=\"dataframe\">\n",
              "  <thead>\n",
              "    <tr style=\"text-align: right;\">\n",
              "      <th></th>\n",
              "      <th>MONTH</th>\n",
              "      <th>STARTING_AMOUNT</th>\n",
              "      <th>EMI_AMOUNT</th>\n",
              "      <th>INTEREST_PAID</th>\n",
              "      <th>PRINCIPLE_PAID</th>\n",
              "      <th>LEFTOVER_PRINCIPLE</th>\n",
              "    </tr>\n",
              "  </thead>\n",
              "  <tbody>\n",
              "    <tr>\n",
              "      <th>343</th>\n",
              "      <td>2049-01-01</td>\n",
              "      <td>1600752.76894</td>\n",
              "      <td>102861.25969</td>\n",
              "      <td>16007.52769</td>\n",
              "      <td>86853.73200</td>\n",
              "      <td>1513899.03694</td>\n",
              "    </tr>\n",
              "    <tr>\n",
              "      <th>344</th>\n",
              "      <td>2049-02-01</td>\n",
              "      <td>1513899.03694</td>\n",
              "      <td>102861.25969</td>\n",
              "      <td>15138.99037</td>\n",
              "      <td>472583.27895</td>\n",
              "      <td>1041315.75799</td>\n",
              "    </tr>\n",
              "    <tr>\n",
              "      <th>345</th>\n",
              "      <td>2049-03-01</td>\n",
              "      <td>1041315.75799</td>\n",
              "      <td>102861.25969</td>\n",
              "      <td>10413.15758</td>\n",
              "      <td>92448.10211</td>\n",
              "      <td>948867.65588</td>\n",
              "    </tr>\n",
              "    <tr>\n",
              "      <th>346</th>\n",
              "      <td>2049-04-01</td>\n",
              "      <td>948867.65588</td>\n",
              "      <td>102861.25969</td>\n",
              "      <td>9488.67656</td>\n",
              "      <td>93372.58313</td>\n",
              "      <td>855495.07274</td>\n",
              "    </tr>\n",
              "    <tr>\n",
              "      <th>347</th>\n",
              "      <td>2049-05-01</td>\n",
              "      <td>855495.07274</td>\n",
              "      <td>74845.10531</td>\n",
              "      <td>8554.95073</td>\n",
              "      <td>457735.20385</td>\n",
              "      <td>397759.86889</td>\n",
              "    </tr>\n",
              "    <tr>\n",
              "      <th>348</th>\n",
              "      <td>2049-06-01</td>\n",
              "      <td>397759.86889</td>\n",
              "      <td>74845.10531</td>\n",
              "      <td>3977.59869</td>\n",
              "      <td>70867.50662</td>\n",
              "      <td>326892.36227</td>\n",
              "    </tr>\n",
              "    <tr>\n",
              "      <th>349</th>\n",
              "      <td>2049-07-01</td>\n",
              "      <td>326892.36227</td>\n",
              "      <td>74845.10531</td>\n",
              "      <td>3268.92362</td>\n",
              "      <td>71576.18169</td>\n",
              "      <td>255316.18058</td>\n",
              "    </tr>\n",
              "    <tr>\n",
              "      <th>350</th>\n",
              "      <td>2049-08-01</td>\n",
              "      <td>255316.18058</td>\n",
              "      <td>74845.10531</td>\n",
              "      <td>2553.16181</td>\n",
              "      <td>72291.94350</td>\n",
              "      <td>183024.23708</td>\n",
              "    </tr>\n",
              "    <tr>\n",
              "      <th>351</th>\n",
              "      <td>2049-09-01</td>\n",
              "      <td>183024.23708</td>\n",
              "      <td>74845.10531</td>\n",
              "      <td>1830.24237</td>\n",
              "      <td>73014.86294</td>\n",
              "      <td>110009.37414</td>\n",
              "    </tr>\n",
              "    <tr>\n",
              "      <th>352</th>\n",
              "      <td>2049-10-01</td>\n",
              "      <td>110009.37414</td>\n",
              "      <td>74845.10531</td>\n",
              "      <td>1100.09374</td>\n",
              "      <td>73745.01157</td>\n",
              "      <td>36264.36257</td>\n",
              "    </tr>\n",
              "    <tr>\n",
              "      <th>353</th>\n",
              "      <td>2049-11-01</td>\n",
              "      <td>36264.36257</td>\n",
              "      <td>36627.00620</td>\n",
              "      <td>362.64363</td>\n",
              "      <td>36264.36257</td>\n",
              "      <td>0.00000</td>\n",
              "    </tr>\n",
              "  </tbody>\n",
              "</table>\n",
              "</div>"
            ],
            "text/plain": [
              "          MONTH STARTING_AMOUNT  ...  PRINCIPLE_PAID  LEFTOVER_PRINCIPLE\n",
              "343  2049-01-01   1600752.76894  ...     86853.73200       1513899.03694\n",
              "344  2049-02-01   1513899.03694  ...    472583.27895       1041315.75799\n",
              "345  2049-03-01   1041315.75799  ...     92448.10211        948867.65588\n",
              "346  2049-04-01    948867.65588  ...     93372.58313        855495.07274\n",
              "347  2049-05-01    855495.07274  ...    457735.20385        397759.86889\n",
              "348  2049-06-01    397759.86889  ...     70867.50662        326892.36227\n",
              "349  2049-07-01    326892.36227  ...     71576.18169        255316.18058\n",
              "350  2049-08-01    255316.18058  ...     72291.94350        183024.23708\n",
              "351  2049-09-01    183024.23708  ...     73014.86294        110009.37414\n",
              "352  2049-10-01    110009.37414  ...     73745.01157         36264.36257\n",
              "353  2049-11-01     36264.36257  ...     36264.36257             0.00000\n",
              "\n",
              "[11 rows x 6 columns]"
            ]
          },
          "metadata": {
            "tags": []
          },
          "execution_count": 10
        }
      ]
    },
    {
      "cell_type": "code",
      "metadata": {
        "colab": {
          "base_uri": "https://localhost:8080/",
          "height": 421
        },
        "id": "k-M7FkXgzVgz",
        "outputId": "7d9df61f-377e-450e-b0a4-e25ce22625b8"
      },
      "source": [
        "obj1.getTrend(deviation=True)"
      ],
      "execution_count": 11,
      "outputs": [
        {
          "output_type": "display_data",
          "data": {
            "image/png": "[encoded data removed]",
            "text/plain": [
              "<Figure size 1080x360 with 2 Axes>"
            ]
          },
          "metadata": {
            "tags": [],
            "needs_background": "light"
          }
        },
        {
          "output_type": "stream",
          "text": [
            "You would have paid 37030053.48931816 and with advance payment you paid 36178554.75136678 \n",
            "Your saving is 851498.737951383 out of which advance principle paid is 776306.0589031661\n",
            "You saved 75192.6790482169 in interest\n"
          ],
          "name": "stdout"
        }
      ]
    },
    {
      "cell_type": "code",
      "metadata": {
        "id": "VZa9Lgn6yVik"
      },
      "source": [
        ""
      ],
      "execution_count": 11,
      "outputs": []
    }
  ]
}